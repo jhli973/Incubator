{
 "cells": [
  {
   "cell_type": "markdown",
   "metadata": {},
   "source": [
    "### This project was inspired by **Randal S. Olson's** project - The Optimal U.S. National Parks Centennial Road Trip. All codes are credited to Randal S. Olson. Please refer to his [github](https://github.com/rhiever/Data-Analysis-and-Machine-Learning-Projects/blob/master/optimal-road-trip/Computing%20the%20optimal%20road%20trip%20across%20the%20U.S..ipynb) as well as his [website](http://www.randalolson.com/2016/07/30/the-optimal-u-s-national-parks-centennial-road-trip/)\n",
    "\n",
    "I have made two changes:\n",
    "- Add a prompt to let users enter API keys\n",
    "- Add a prompt to ask users what are the stop location addresses"
   ]
  },
  {
   "cell_type": "markdown",
   "metadata": {},
   "source": [
    "## Trip plan\n",
    "\n",
    "Once you have decide where you want to stop, you can create a all_waypoint list by enter them through prompt. Make sure all the locations can be found in Google Maps. For example, I have choosen several places to visit.\n",
    "\n",
    "- Lincoln Memorial (2 Lincoln Memorial Cir NW, Washington, DC 20037)\n",
    "- National Cathedral (3101 Wisconsin Ave NW, Washington, DC 20016)\n",
    "- MGM National Harbor Resort & Casino (101 MGM National Ave, Oxon Hill, MD 20745)\n",
    "- White House (1600 Pennsylvania Ave NW, Washington, DC 20500)\n",
    "- Maryland State House (Maryland State House, 100 State Cir, Annapolis, MD 21401)\n",
    "- Mount Vernon (3200 Mount Vernon Hwy, Mt Vernon, VA 22121)"
   ]
  },
  {
   "cell_type": "code",
   "execution_count": 23,
   "metadata": {
    "collapsed": false
   },
   "outputs": [],
   "source": [
    "# run the command below \n",
    "import OptimalRoadMap as orm"
   ]
  },
  {
   "cell_type": "markdown",
   "metadata": {},
   "source": [
    "If you run the above command, the prompt will ask you the Google maps API key and the stop location addresses."
   ]
  },
  {
   "cell_type": "markdown",
   "metadata": {},
   "source": [
    "## Calculate the shortested distance between all waypoints"
   ]
  },
  {
   "cell_type": "markdown",
   "metadata": {},
   "source": [
    "find your [map](Output_1.html)"
   ]
  },
  {
   "cell_type": "code",
   "execution_count": 19,
   "metadata": {
    "collapsed": false
   },
   "outputs": [
    {
     "data": {
      "text/html": [
       "\n",
       "    <!DOCTYPE html>\n",
       "    <html lang=\"en\">\n",
       "      <head>\n",
       "        <meta charset=\"utf-8\">\n",
       "        <meta name=\"viewport\" content=\"initial-scale=1.0, user-scalable=no\">\n",
       "        <meta name=\"description\" content=\"Randy Olson uses machine learning to find the optimal road trip across the U.S.\">\n",
       "        <meta name=\"author\" content=\"Randal S. Olson\">\n",
       "        \n",
       "        <title>The optimal road trip across the U.S. according to machine learning</title>\n",
       "        <style>\n",
       "          html, body, #map-canvas {\n",
       "            height: 100%;\n",
       "            margin: 0px;\n",
       "            padding: 0px\n",
       "          }\n",
       "          #panel {\n",
       "            position: absolute;\n",
       "            top: 5px;\n",
       "            left: 50%;\n",
       "            margin-left: -180px;\n",
       "            z-index: 5;\n",
       "            background-color: #fff;\n",
       "            padding: 10px;\n",
       "            border: 1px solid #999;\n",
       "          }\n",
       "        </style>\n",
       "        <script src=\"https://maps.googleapis.com/maps/api/js?v=3.exp&signed_in=true\"></script>\n",
       "        <script>\n",
       "            var routes_list = []\n",
       "            var markerOptions = {icon: \"http://maps.gstatic.com/mapfiles/markers2/marker.png\"};\n",
       "            var directionsDisplayOptions = {preserveViewport: true,\n",
       "                                            markerOptions: markerOptions};\n",
       "            var directionsService = new google.maps.DirectionsService();\n",
       "            var map;\n",
       "            function initialize() {\n",
       "              var center = new google.maps.LatLng(39, -96);\n",
       "              var mapOptions = {\n",
       "                zoom: 5,\n",
       "                center: center\n",
       "              };\n",
       "              map = new google.maps.Map(document.getElementById('map-canvas'), mapOptions);\n",
       "              for (i=0; i<routes_list.length; i++) {\n",
       "                routes_list[i].setMap(map); \n",
       "              }\n",
       "            }\n",
       "            function calcRoute(start, end, routes) {\n",
       "              \n",
       "              var directionsDisplay = new google.maps.DirectionsRenderer(directionsDisplayOptions);\n",
       "              var waypts = [];\n",
       "              for (var i = 0; i < routes.length; i++) {\n",
       "                waypts.push({\n",
       "                  location:routes[i],\n",
       "                  stopover:true});\n",
       "                }\n",
       "              \n",
       "              var request = {\n",
       "                  origin: start,\n",
       "                  destination: end,\n",
       "                  waypoints: waypts,\n",
       "                  optimizeWaypoints: false,\n",
       "                  travelMode: google.maps.TravelMode.DRIVING\n",
       "              };\n",
       "              directionsService.route(request, function(response, status) {\n",
       "                if (status == google.maps.DirectionsStatus.OK) {\n",
       "                    directionsDisplay.setDirections(response);      \n",
       "                }\n",
       "              });\n",
       "              routes_list.push(directionsDisplay);\n",
       "            }\n",
       "            function createRoutes(route) {\n",
       "                // Google's free map API is limited to 10 waypoints so need to break into batches\n",
       "                route.push(route[0]);\n",
       "                var subset = 0;\n",
       "                while (subset < route.length) {\n",
       "                    var waypointSubset = route.slice(subset, subset + 10);\n",
       "                    var startPoint = waypointSubset[0];\n",
       "                    var midPoints = waypointSubset.slice(1, waypointSubset.length - 1);\n",
       "                    var endPoint = waypointSubset[waypointSubset.length - 1];\n",
       "                    calcRoute(startPoint, endPoint, midPoints);\n",
       "                    subset += 9;\n",
       "                }\n",
       "            }\n",
       "    \t\t\toptimal_route = ['2 Lincoln Memorial Cir NW, Washington, DC 20037', '3101 Wisconsin Ave NW, Washington, DC 20016', '1600 Pennsylvania Ave NW, Washington, DC 20500', 'Maryland State House, 100 State Cir, Annapolis, MD 21401', '101 MGM National Ave, Oxon Hill, MD 20745', '2 Lincoln Memorial Cir NW, Washington, DC 20037']\n",
       "            \n",
       "            createRoutes(optimal_route);\n",
       "            google.maps.event.addDomListener(window, 'load', initialize);\n",
       "        </script>\n",
       "      </head>\n",
       "      <body>\n",
       "        <div id=\"map-canvas\"></div>\n",
       "      </body>\n",
       "    </html>\n",
       "    "
      ],
      "text/plain": [
       "<IPython.core.display.HTML object>"
      ]
     },
     "execution_count": 19,
     "metadata": {},
     "output_type": "execute_result"
    }
   ],
   "source": [
    "from IPython.display import display\n",
    "HTML(filename='Output_1.html')"
   ]
  },
  {
   "cell_type": "markdown",
   "metadata": {},
   "source": [
    "## Optimize the order to visit the waypoints"
   ]
  },
  {
   "cell_type": "code",
   "execution_count": 24,
   "metadata": {
    "collapsed": true
   },
   "outputs": [],
   "source": [
    "import OptimalRoadMap as orm"
   ]
  },
  {
   "cell_type": "code",
   "execution_count": null,
   "metadata": {
    "collapsed": true
   },
   "outputs": [],
   "source": []
  }
 ],
 "metadata": {
  "kernelspec": {
   "display_name": "Python 2",
   "language": "python",
   "name": "python2"
  },
  "language_info": {
   "codemirror_mode": {
    "name": "ipython",
    "version": 2
   },
   "file_extension": ".py",
   "mimetype": "text/x-python",
   "name": "python",
   "nbconvert_exporter": "python",
   "pygments_lexer": "ipython2",
   "version": "2.7.11"
  }
 },
 "nbformat": 4,
 "nbformat_minor": 0
}
