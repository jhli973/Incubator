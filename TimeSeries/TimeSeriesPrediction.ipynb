{
 "cells": [
  {
   "cell_type": "markdown",
   "metadata": {},
   "source": [
    "A tutorial from [Jason Brownlee](http://machinelearningmastery.com/time-series-prediction-lstm-recurrent-neural-networks-python-keras/)\n",
    "\n",
    "The data is free and you can download from [here](https://datamarket.com/data/set/22u3/international-airline-passengers-monthly-totals-in-thousands-jan-49-dec-60#!ds=22u3&display=line)"
   ]
  },
  {
   "cell_type": "code",
   "execution_count": 2,
   "metadata": {
    "collapsed": true
   },
   "outputs": [],
   "source": [
    "import pandas as pd\n",
    "import numpy as np\n",
    "import matplotlib.pyplot as plt\n",
    "%matplotlib inline"
   ]
  },
  {
   "cell_type": "code",
   "execution_count": 26,
   "metadata": {
    "collapsed": false
   },
   "outputs": [
    {
     "data": {
      "text/html": [
       "<div>\n",
       "<table border=\"1\" class=\"dataframe\">\n",
       "  <thead>\n",
       "    <tr style=\"text-align: right;\">\n",
       "      <th></th>\n",
       "      <th>International airline passengers: monthly totals in thousands. Jan 49 ? Dec 60</th>\n",
       "    </tr>\n",
       "  </thead>\n",
       "  <tbody>\n",
       "    <tr>\n",
       "      <th>0</th>\n",
       "      <td>112</td>\n",
       "    </tr>\n",
       "    <tr>\n",
       "      <th>1</th>\n",
       "      <td>118</td>\n",
       "    </tr>\n",
       "    <tr>\n",
       "      <th>2</th>\n",
       "      <td>132</td>\n",
       "    </tr>\n",
       "  </tbody>\n",
       "</table>\n",
       "</div>"
      ],
      "text/plain": [
       "   International airline passengers: monthly totals in thousands. Jan 49 ? Dec 60\n",
       "0                                                112                             \n",
       "1                                                118                             \n",
       "2                                                132                             "
      ]
     },
     "execution_count": 26,
     "metadata": {},
     "output_type": "execute_result"
    }
   ],
   "source": [
    "data = pd.read_csv('international-airline-passengers.csv', usecols=[1],engine='python', skipfooter=3)\n",
    "data.head(3)"
   ]
  },
  {
   "cell_type": "code",
   "execution_count": 25,
   "metadata": {
    "collapsed": false
   },
   "outputs": [
    {
     "data": {
      "image/png": "[encoded data removed]",
      "text/plain": [
       "<matplotlib.figure.Figure at 0xaac6c88>"
      ]
     },
     "metadata": {},
     "output_type": "display_data"
    }
   ],
   "source": [
    "plt.plot(data)\n",
    "plt.show()"
   ]
  },
  {
   "cell_type": "code",
   "execution_count": 17,
   "metadata": {
    "collapsed": false
   },
   "outputs": [],
   "source": [
    "# fix random seed for reproducity\n",
    "np.random.seed(7)"
   ]
  },
  {
   "cell_type": "code",
   "execution_count": 18,
   "metadata": {
    "collapsed": false
   },
   "outputs": [],
   "source": [
    "# load the dataset\n",
    "dataset = data.values\n",
    "\n",
    "# convert integer values to floating point values, which are more suitable for modeling with a neural network\n",
    "dataset = dataset.astype('float32')"
   ]
  },
  {
   "cell_type": "code",
   "execution_count": 70,
   "metadata": {
    "collapsed": false
   },
   "outputs": [
    {
     "data": {
      "text/plain": [
       "array([[ 0.01544401],\n",
       "       [ 0.02702703],\n",
       "       [ 0.05405405],\n",
       "       [ 0.04826255],\n",
       "       [ 0.03281853]], dtype=float32)"
      ]
     },
     "execution_count": 70,
     "metadata": {},
     "output_type": "execute_result"
    }
   ],
   "source": [
    "# LSTMs are sensitive to the scale of the input data, specifically when the sigmoid (default) ot tanh activation functions \n",
    "# are used. We will normalized the data with MinMaxScaler\n",
    "from sklearn.preprocessing import MinMaxScaler\n",
    "import math\n",
    "scaler = MinMaxScaler(feature_range=(0, 1))\n",
    "dataset = scaler.fit_transform(dataset)\n",
    "dataset[:5]"
   ]
  },
  {
   "cell_type": "code",
   "execution_count": 23,
   "metadata": {
    "collapsed": false
   },
   "outputs": [
    {
     "name": "stdout",
     "output_type": "stream",
     "text": [
      "(96, 48)\n"
     ]
    }
   ],
   "source": [
    "# split dataet into train and test sets\n",
    "\n",
    "train_size = int(len(dataset)*0.67)\n",
    "test_size = len(dataset) - train_size\n",
    "\n",
    "train, test = dataset[0:train_size, :], dataset[train_size:len(dataset), :]\n",
    "\n",
    "print(len(train), len(test))"
   ]
  },
  {
   "cell_type": "code",
   "execution_count": 47,
   "metadata": {
    "collapsed": false
   },
   "outputs": [],
   "source": [
    "# convert an array of values into a dataset matrix\n",
    "def create_dataset(dataset, look_back=1):\n",
    "    dataX, dataY = [], []\n",
    "    for i in range(len(dataset)-look_back-1):\n",
    "        a = dataset[i:(i+look_back), 0]\n",
    "        dataX.append(a)\n",
    "        dataY.append(dataset[i + look_back, 0])\n",
    "    return np.array(dataX), np.array(dataY)"
   ]
  },
  {
   "cell_type": "code",
   "execution_count": 48,
   "metadata": {
    "collapsed": false
   },
   "outputs": [],
   "source": [
    "# reshape into X = t and Y = t + 1\n",
    "look_back = 1\n",
    "trainX, trainY = create_dataset(train, look_back)\n",
    "testX, testY = create_dataset(test, look_back)"
   ]
  },
  {
   "cell_type": "code",
   "execution_count": 80,
   "metadata": {
    "collapsed": false
   },
   "outputs": [
    {
     "data": {
      "text/plain": [
       "array([ 0.02702703,  0.05405405,  0.04826255,  0.03281853,  0.05984557])"
      ]
     },
     "execution_count": 80,
     "metadata": {},
     "output_type": "execute_result"
    }
   ],
   "source": [
    "scaler.inverse_transform(trainY)[0][:5]"
   ]
  },
  {
   "cell_type": "code",
   "execution_count": 49,
   "metadata": {
    "collapsed": true
   },
   "outputs": [],
   "source": [
    "# LSTM network expects the input data (X) in the form of: [samples, time steps, features]\n",
    "\n",
    "trainX = np.reshape(trainX, (trainX.shape[0], 1, trainX.shape[1]))\n",
    "testX = np.reshape(testX, (testX.shape[0], 1, testX.shape[1]))"
   ]
  },
  {
   "cell_type": "code",
   "execution_count": 51,
   "metadata": {
    "collapsed": false
   },
   "outputs": [
    {
     "name": "stderr",
     "output_type": "stream",
     "text": [
      "Using Theano backend.\n",
      "WARNING (theano.configdefaults): g++ not detected ! Theano will be unable to execute optimized C-implementations (for both CPU and GPU) and will default to Python implementations. Performance will be severely degraded. To remove this warning, set Theano flags cxx to an empty string.\n"
     ]
    },
    {
     "name": "stdout",
     "output_type": "stream",
     "text": [
      "Epoch 1/100\n",
      "3s - loss: 0.0461\n",
      "Epoch 2/100\n",
      "3s - loss: 0.0227\n",
      "Epoch 3/100\n",
      "3s - loss: 0.0160\n",
      "Epoch 4/100\n",
      "3s - loss: 0.0143\n",
      "Epoch 5/100\n",
      "4s - loss: 0.0134\n",
      "Epoch 6/100\n",
      "3s - loss: 0.0126\n",
      "Epoch 7/100\n",
      "3s - loss: 0.0116\n",
      "Epoch 8/100\n",
      "3s - loss: 0.0106\n",
      "Epoch 9/100\n",
      "4s - loss: 0.0095\n",
      "Epoch 10/100\n",
      "3s - loss: 0.0083\n",
      "Epoch 11/100\n",
      "3s - loss: 0.0071\n",
      "Epoch 12/100\n",
      "3s - loss: 0.0059\n",
      "Epoch 13/100\n",
      "3s - loss: 0.0048\n",
      "Epoch 14/100\n",
      "3s - loss: 0.0039\n",
      "Epoch 15/100\n",
      "3s - loss: 0.0031\n",
      "Epoch 16/100\n",
      "3s - loss: 0.0026\n",
      "Epoch 17/100\n",
      "3s - loss: 0.0024\n",
      "Epoch 18/100\n",
      "3s - loss: 0.0022\n",
      "Epoch 19/100\n",
      "3s - loss: 0.0022\n",
      "Epoch 20/100\n",
      "4s - loss: 0.0021\n",
      "Epoch 21/100\n",
      "3s - loss: 0.0021\n",
      "Epoch 22/100\n",
      "3s - loss: 0.0021\n",
      "Epoch 23/100\n",
      "3s - loss: 0.0021\n",
      "Epoch 24/100\n",
      "3s - loss: 0.0021\n",
      "Epoch 25/100\n",
      "3s - loss: 0.0021\n",
      "Epoch 26/100\n",
      "3s - loss: 0.0021\n",
      "Epoch 27/100\n",
      "3s - loss: 0.0020\n",
      "Epoch 28/100\n",
      "3s - loss: 0.0020\n",
      "Epoch 29/100\n",
      "3s - loss: 0.0021\n",
      "Epoch 30/100\n",
      "3s - loss: 0.0021\n",
      "Epoch 31/100\n",
      "3s - loss: 0.0020\n",
      "Epoch 32/100\n",
      "3s - loss: 0.0020\n",
      "Epoch 33/100\n",
      "3s - loss: 0.0021\n",
      "Epoch 34/100\n",
      "3s - loss: 0.0020\n",
      "Epoch 35/100\n",
      "3s - loss: 0.0021\n",
      "Epoch 36/100\n",
      "3s - loss: 0.0021\n",
      "Epoch 37/100\n",
      "3s - loss: 0.0021\n",
      "Epoch 38/100\n",
      "3s - loss: 0.0021\n",
      "Epoch 39/100\n",
      "3s - loss: 0.0020\n",
      "Epoch 40/100\n",
      "4s - loss: 0.0021\n",
      "Epoch 41/100\n",
      "3s - loss: 0.0020\n",
      "Epoch 42/100\n",
      "3s - loss: 0.0020\n",
      "Epoch 43/100\n",
      "3s - loss: 0.0020\n",
      "Epoch 44/100\n",
      "3s - loss: 0.0020\n",
      "Epoch 45/100\n",
      "3s - loss: 0.0020\n",
      "Epoch 46/100\n",
      "3s - loss: 0.0021\n",
      "Epoch 47/100\n",
      "3s - loss: 0.0021\n",
      "Epoch 48/100\n",
      "3s - loss: 0.0021\n",
      "Epoch 49/100\n",
      "3s - loss: 0.0021\n",
      "Epoch 50/100\n",
      "3s - loss: 0.0021\n",
      "Epoch 51/100\n",
      "3s - loss: 0.0020\n",
      "Epoch 52/100\n",
      "3s - loss: 0.0020\n",
      "Epoch 53/100\n",
      "3s - loss: 0.0020\n",
      "Epoch 54/100\n",
      "3s - loss: 0.0021\n",
      "Epoch 55/100\n",
      "3s - loss: 0.0020\n",
      "Epoch 56/100\n",
      "3s - loss: 0.0021\n",
      "Epoch 57/100\n",
      "3s - loss: 0.0020\n",
      "Epoch 58/100\n",
      "3s - loss: 0.0020\n",
      "Epoch 59/100\n",
      "3s - loss: 0.0020\n",
      "Epoch 60/100\n",
      "3s - loss: 0.0020\n",
      "Epoch 61/100\n",
      "3s - loss: 0.0020\n",
      "Epoch 62/100\n",
      "3s - loss: 0.0021\n",
      "Epoch 63/100\n",
      "3s - loss: 0.0020\n",
      "Epoch 64/100\n",
      "3s - loss: 0.0021\n",
      "Epoch 65/100\n",
      "3s - loss: 0.0021\n",
      "Epoch 66/100\n",
      "3s - loss: 0.0021\n",
      "Epoch 67/100\n",
      "3s - loss: 0.0020\n",
      "Epoch 68/100\n",
      "3s - loss: 0.0021\n",
      "Epoch 69/100\n",
      "3s - loss: 0.0020\n",
      "Epoch 70/100\n",
      "3s - loss: 0.0020\n",
      "Epoch 71/100\n",
      "3s - loss: 0.0020\n",
      "Epoch 72/100\n",
      "3s - loss: 0.0020\n",
      "Epoch 73/100\n",
      "3s - loss: 0.0021\n",
      "Epoch 74/100\n",
      "3s - loss: 0.0021\n",
      "Epoch 75/100\n",
      "3s - loss: 0.0020\n",
      "Epoch 76/100\n",
      "3s - loss: 0.0022\n",
      "Epoch 77/100\n",
      "3s - loss: 0.0021\n",
      "Epoch 78/100\n",
      "3s - loss: 0.0020\n",
      "Epoch 79/100\n",
      "3s - loss: 0.0020\n",
      "Epoch 80/100\n",
      "3s - loss: 0.0020\n",
      "Epoch 81/100\n",
      "3s - loss: 0.0020\n",
      "Epoch 82/100\n",
      "3s - loss: 0.0020\n",
      "Epoch 83/100\n",
      "3s - loss: 0.0020\n",
      "Epoch 84/100\n",
      "3s - loss: 0.0021\n",
      "Epoch 85/100\n",
      "3s - loss: 0.0020\n",
      "Epoch 86/100\n",
      "3s - loss: 0.0020\n",
      "Epoch 87/100\n",
      "4s - loss: 0.0021\n",
      "Epoch 88/100\n",
      "4s - loss: 0.0020\n",
      "Epoch 89/100\n",
      "3s - loss: 0.0021\n",
      "Epoch 90/100\n",
      "3s - loss: 0.0020\n",
      "Epoch 91/100\n",
      "4s - loss: 0.0020\n",
      "Epoch 92/100\n",
      "3s - loss: 0.0020\n",
      "Epoch 93/100\n",
      "3s - loss: 0.0019\n",
      "Epoch 94/100\n",
      "3s - loss: 0.0020\n",
      "Epoch 95/100\n",
      "3s - loss: 0.0020\n",
      "Epoch 96/100\n",
      "3s - loss: 0.0020\n",
      "Epoch 97/100\n",
      "3s - loss: 0.0020\n",
      "Epoch 98/100\n",
      "3s - loss: 0.0020\n",
      "Epoch 99/100\n",
      "3s - loss: 0.0021\n",
      "Epoch 100/100\n",
      "3s - loss: 0.0021\n"
     ]
    },
    {
     "data": {
      "text/plain": [
       "<keras.callbacks.History at 0x134ceb38>"
      ]
     },
     "execution_count": 51,
     "metadata": {},
     "output_type": "execute_result"
    }
   ],
   "source": [
    "# create and fit the LSTM network\n",
    "\n",
    "from keras.models import Sequential\n",
    "from keras.layers import Dense\n",
    "from keras.layers import LSTM\n",
    "from sklearn.metrics import mean_squared_error\n",
    "\n",
    "mdl = Sequential()\n",
    "mdl.add(LSTM(4, input_dim = look_back))\n",
    "mdl.add(Dense(1))\n",
    "mdl.compile(loss='mean_squared_error', optimizer='adam')\n",
    "mdl.fit(trainX, trainY, nb_epoch=100, batch_size=1, verbose=2)"
   ]
  },
  {
   "cell_type": "code",
   "execution_count": 52,
   "metadata": {
    "collapsed": true
   },
   "outputs": [],
   "source": [
    "# make predictions\n",
    "trainPred = mdl.predict(trainX)\n",
    "testPred = mdl.predict(testX)\n",
    "# invert predictions\n",
    "trainPred = scaler.inverse_transform(trainPred)\n",
    "testPred = scaler.inverse_transform(testPred)\n",
    "\n",
    "trainY = scaler.inverse_transform([trainY])\n",
    "testY = scaler.inverse_transform([testY])"
   ]
  },
  {
   "cell_type": "code",
   "execution_count": 64,
   "metadata": {
    "collapsed": false
   },
   "outputs": [
    {
     "name": "stdout",
     "output_type": "stream",
     "text": [
      "Train Score: 0.04 RMSE\n",
      "Test Score: 0.10 RMSE\n"
     ]
    }
   ],
   "source": [
    "# calculate root mean squared error\n",
    "trainScore = math.sqrt(mean_squared_error(trainY[0], trainPred[:,0]))\n",
    "print('Train Score: %.2f RMSE' % (trainScore))\n",
    "\n",
    "testScore = math.sqrt(mean_squared_error(testY[0], testPred[:,0]))\n",
    "print('Test Score: %.2f RMSE' % (testScore))"
   ]
  },
  {
   "cell_type": "code",
   "execution_count": 81,
   "metadata": {
    "collapsed": false
   },
   "outputs": [
    {
     "data": {
      "image/png": "[encoded data removed]",
      "text/plain": [
       "<matplotlib.figure.Figure at 0x14010048>"
      ]
     },
     "metadata": {},
     "output_type": "display_data"
    }
   ],
   "source": [
    "# shift tain prediction for plotting\n",
    "trainPredPlot = np.empty_like(dataset)\n",
    "trainPredPlot[:, :] = np.nan\n",
    "trainPredPlot[look_back:len(trainPred)+look_back, :] = trainPred\n",
    "#shift test prediction for plotting\n",
    "testPredPlot = np.empty_like(dataset)\n",
    "testPredPlot[:, :] = np.nan\n",
    "testPredPlot[len(trainPred) + look_back*2 + 1:len(dataset)-1, :] = testPred\n",
    "\n",
    "#plot baseline and predictions\n",
    "\n",
    "plt.plot(dataset)\n",
    "plt.plot(trainPredPlot)\n",
    "plt.plot(testPredPlot)\n",
    "\n",
    "plt.show()"
   ]
  },
  {
   "cell_type": "code",
   "execution_count": null,
   "metadata": {
    "collapsed": true
   },
   "outputs": [],
   "source": []
  },
  {
   "cell_type": "code",
   "execution_count": 3,
   "metadata": {
    "collapsed": false
   },
   "outputs": [
    {
     "data": {
      "text/plain": [
       "DatetimeIndex(['2015-01-31', '2015-02-28', '2015-03-31', '2015-04-30',\n",
       "               '2015-05-31', '2015-06-30', '2015-07-31', '2015-08-31',\n",
       "               '2015-09-30', '2015-10-31', '2015-11-30', '2015-12-31',\n",
       "               '2016-01-31', '2016-02-29', '2016-03-31', '2016-04-30',\n",
       "               '2016-05-31', '2016-06-30', '2016-07-31', '2016-08-31',\n",
       "               '2016-09-30', '2016-10-31', '2016-11-30', '2016-12-31',\n",
       "               '2017-01-31', '2017-02-28', '2017-03-31', '2017-04-30',\n",
       "               '2017-05-31', '2017-06-30', '2017-07-31', '2017-08-31',\n",
       "               '2017-09-30', '2017-10-31', '2017-11-30', '2017-12-31'],\n",
       "              dtype='datetime64[ns]', freq='M')"
      ]
     },
     "execution_count": 3,
     "metadata": {},
     "output_type": "execute_result"
    }
   ],
   "source": [
    "from pandas import Series, DataFrame, Panel\n",
    "\n",
    "date = pd.date_range('2015-01', '2018-01', freq='M')\n",
    "date"
   ]
  },
  {
   "cell_type": "code",
   "execution_count": 4,
   "metadata": {
    "collapsed": false
   },
   "outputs": [
    {
     "data": {
      "text/plain": [
       "36"
      ]
     },
     "execution_count": 4,
     "metadata": {},
     "output_type": "execute_result"
    }
   ],
   "source": [
    "date.size"
   ]
  },
  {
   "cell_type": "code",
   "execution_count": 5,
   "metadata": {
    "collapsed": false
   },
   "outputs": [
    {
     "data": {
      "text/plain": [
       "array([ 1.70798883,  1.74584882,  1.11332857,  1.18925515,  1.12215182,\n",
       "        1.96162421,  1.46061978,  1.99137025,  1.01903193,  1.94310333,\n",
       "        1.00727743,  1.4747584 ,  1.05709503,  1.93567367,  1.28993108,\n",
       "        1.64451389,  1.89492243,  1.05025133,  1.24004827,  1.83922679,\n",
       "        1.28620447,  1.07445158,  1.5452026 ,  1.42638639,  1.65354773,\n",
       "        1.11330084,  1.44195891,  1.51540603,  1.53682762,  1.36427157,\n",
       "        1.73209165,  1.35258185,  1.82234557,  1.4127548 ,  1.25990417,\n",
       "        1.46452146])"
      ]
     },
     "execution_count": 5,
     "metadata": {},
     "output_type": "execute_result"
    }
   ],
   "source": [
    "height = (1 + np.random.random(36))\n",
    "height"
   ]
  },
  {
   "cell_type": "code",
   "execution_count": 6,
   "metadata": {
    "collapsed": false
   },
   "outputs": [
    {
     "data": {
      "text/plain": [
       "array([ 175.,  174.,  105.,  188.,  137.,  143.,  184.,  194.,  109.,\n",
       "        141.,  117.,  111.,  174.,  170.,  159.,  188.,  105.,  140.,\n",
       "        147.,  161.,  100.,  116.,  182.,  182.,  103.,  147.,  179.,\n",
       "        105.,  101.,  159.,  122.,  157.,  160.,  169.,  123.,  106.])"
      ]
     },
     "execution_count": 6,
     "metadata": {},
     "output_type": "execute_result"
    }
   ],
   "source": [
    "weight = np.round((1 + np.random.random(36)) * 100, 0)\n",
    "weight"
   ]
  },
  {
   "cell_type": "code",
   "execution_count": 7,
   "metadata": {
    "collapsed": false
   },
   "outputs": [
    {
     "data": {
      "text/html": [
       "<div>\n",
       "<table border=\"1\" class=\"dataframe\">\n",
       "  <thead>\n",
       "    <tr style=\"text-align: right;\">\n",
       "      <th></th>\n",
       "      <th>date</th>\n",
       "      <th>height</th>\n",
       "      <th>weight</th>\n",
       "    </tr>\n",
       "  </thead>\n",
       "  <tbody>\n",
       "    <tr>\n",
       "      <th>0</th>\n",
       "      <td>2015-01-31</td>\n",
       "      <td>1.707989</td>\n",
       "      <td>175.0</td>\n",
       "    </tr>\n",
       "    <tr>\n",
       "      <th>1</th>\n",
       "      <td>2015-02-28</td>\n",
       "      <td>1.745849</td>\n",
       "      <td>174.0</td>\n",
       "    </tr>\n",
       "    <tr>\n",
       "      <th>2</th>\n",
       "      <td>2015-03-31</td>\n",
       "      <td>1.113329</td>\n",
       "      <td>105.0</td>\n",
       "    </tr>\n",
       "    <tr>\n",
       "      <th>3</th>\n",
       "      <td>2015-04-30</td>\n",
       "      <td>1.189255</td>\n",
       "      <td>188.0</td>\n",
       "    </tr>\n",
       "    <tr>\n",
       "      <th>4</th>\n",
       "      <td>2015-05-31</td>\n",
       "      <td>1.122152</td>\n",
       "      <td>137.0</td>\n",
       "    </tr>\n",
       "  </tbody>\n",
       "</table>\n",
       "</div>"
      ],
      "text/plain": [
       "        date    height  weight\n",
       "0 2015-01-31  1.707989   175.0\n",
       "1 2015-02-28  1.745849   174.0\n",
       "2 2015-03-31  1.113329   105.0\n",
       "3 2015-04-30  1.189255   188.0\n",
       "4 2015-05-31  1.122152   137.0"
      ]
     },
     "execution_count": 7,
     "metadata": {},
     "output_type": "execute_result"
    }
   ],
   "source": [
    "data = pd.DataFrame({'date': Series(date), 'height':Series(height), 'weight':Series(weight)})\n",
    "data.head()"
   ]
  },
  {
   "cell_type": "code",
   "execution_count": 10,
   "metadata": {
    "collapsed": false
   },
   "outputs": [
    {
     "data": {
      "image/png": "[encoded data removed]",
      "text/plain": [
       "<matplotlib.figure.Figure at 0x9a140b8>"
      ]
     },
     "metadata": {},
     "output_type": "display_data"
    }
   ],
   "source": [
    "import matplotlib.pyplot as plt\n",
    "%matplotlib inline\n",
    "\n",
    "wt= Series(data.weight)\n",
    "fig = plt.figure(figsize=(10,10))\n",
    "plt.plot(date, wt, 'b-')\n",
    "plt.show()"
   ]
  },
  {
   "cell_type": "code",
   "execution_count": null,
   "metadata": {
    "collapsed": true
   },
   "outputs": [],
   "source": []
  }
 ],
 "metadata": {
  "kernelspec": {
   "display_name": "Python 2",
   "language": "python",
   "name": "python2"
  },
  "language_info": {
   "codemirror_mode": {
    "name": "ipython",
    "version": 2
   },
   "file_extension": ".py",
   "mimetype": "text/x-python",
   "name": "python",
   "nbconvert_exporter": "python",
   "pygments_lexer": "ipython2",
   "version": "2.7.12"
  }
 },
 "nbformat": 4,
 "nbformat_minor": 0
}
